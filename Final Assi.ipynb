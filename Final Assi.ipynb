{
 "cells": [
  {
   "cell_type": "markdown",
   "id": "39a4bb83-a78d-4853-8619-6bb956c6dec5",
   "metadata": {},
   "source": [
    "<H1>My Jupyter Notebook on IBM Watson Studio</H1>"
   ]
  },
  {
   "cell_type": "markdown",
   "id": "306a2c62-94a6-4750-ab48-70268f6dba13",
   "metadata": {},
   "source": [
    "**Anas Mahmoud Moustafa**\n",
    "\n",
    "Data Scientist"
   ]
  },
  {
   "cell_type": "markdown",
   "id": "a1d031bd-d6f8-4225-a3e6-eac351baf41f",
   "metadata": {},
   "source": [
    "*I am interested in data science because I love to work with data*"
   ]
  },
  {
   "cell_type": "markdown",
   "id": "eb89f3d9-f88f-4aa4-863e-827cdb94508f",
   "metadata": {},
   "source": [
    "<H3>cell5 will Print output sum (1+1)</H3>"
   ]
  },
  {
   "cell_type": "code",
   "execution_count": 3,
   "id": "417527a3-1773-42d0-8de5-49a9ec0a87b6",
   "metadata": {},
   "outputs": [
    {
     "name": "stdout",
     "output_type": "stream",
     "text": [
      "1+1 = 2\n"
     ]
    }
   ],
   "source": [
    "X1=1\n",
    "X2=1\n",
    "X=X1 + X2\n",
    "print('1+1 =',X)"
   ]
  },
  {
   "cell_type": "markdown",
   "id": "41b3b9ee-37bf-4975-8c51-1702223667bf",
   "metadata": {},
   "source": [
    "<H1>My Name Is Anas :)</H1>\n",
    "<H3>My Githup Pro:-</H3> <a href=\"https://github.com/AnasMahmoud010/DataScience\">https://github.com/AnasMahmoud010/DataScience</a> \n",
    "<H3>My Email Address:-</H3> <a href=\"anas.mustafa206@gmail.com\">anas.mustafa206@gmail.com</a> \n"
   ]
  },
  {
   "cell_type": "code",
   "execution_count": null,
   "id": "bc72ee10-a48d-40c5-8f45-a815d82a465a",
   "metadata": {},
   "outputs": [],
   "source": []
  }
 ],
 "metadata": {
  "kernelspec": {
   "display_name": "Python",
   "language": "python",
   "name": "conda-env-python-py"
  },
  "language_info": {
   "codemirror_mode": {
    "name": "ipython",
    "version": 3
   },
   "file_extension": ".py",
   "mimetype": "text/x-python",
   "name": "python",
   "nbconvert_exporter": "python",
   "pygments_lexer": "ipython3",
   "version": "3.7.12"
  }
 },
 "nbformat": 4,
 "nbformat_minor": 5
}
